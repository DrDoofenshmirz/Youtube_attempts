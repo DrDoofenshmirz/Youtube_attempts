{
  "nbformat": 4,
  "nbformat_minor": 0,
  "metadata": {
    "colab": {
      "provenance": []
    },
    "kernelspec": {
      "name": "python3",
      "display_name": "Python 3"
    },
    "language_info": {
      "name": "python"
    }
  },
  "cells": [
    {
      "cell_type": "code",
      "source": [
        "import heapq\n"
      ],
      "metadata": {
        "id": "vr-rChFSUbUZ"
      },
      "execution_count": 1,
      "outputs": []
    },
    {
      "cell_type": "code",
      "source": [
        "x = [[0,6,7],[0,1,2],[1,2,3],[1,3,3],[6,3,3],[3,5,1],[6,5,1],[2,5,1],[0,4,5],[4,6,2]]\n",
        "def create_map(routes):\n",
        "  from collections import defaultdict\n",
        "  hashmap = defaultdict(list)\n",
        "  for city,City,distance in  routes:hashmap[city].append((distance,City)),hashmap[City].append((distance,city))\n",
        "  return hashmap"
      ],
      "metadata": {
        "id": "zVCsJoJyQbS4"
      },
      "execution_count": 54,
      "outputs": []
    },
    {
      "cell_type": "code",
      "source": [
        "map = create_map(x)"
      ],
      "metadata": {
        "id": "Xiac3ojfQ8Jz"
      },
      "execution_count": 55,
      "outputs": []
    },
    {
      "cell_type": "code",
      "source": [
        "map"
      ],
      "metadata": {
        "colab": {
          "base_uri": "https://localhost:8080/"
        },
        "id": "w5JQkEeVTnJH",
        "outputId": "bdddb58b-8ec3-441e-8513-17589627a5f9"
      },
      "execution_count": 57,
      "outputs": [
        {
          "output_type": "execute_result",
          "data": {
            "text/plain": [
              "defaultdict(list,\n",
              "            {0: [(7, 6), (2, 1), (5, 4)],\n",
              "             6: [(7, 0), (3, 3), (1, 5), (2, 4)],\n",
              "             1: [(2, 0), (3, 2), (3, 3)],\n",
              "             2: [(3, 1), (1, 5)],\n",
              "             3: [(3, 1), (3, 6), (1, 5)],\n",
              "             5: [(1, 3), (1, 6), (1, 2)],\n",
              "             4: [(5, 0), (2, 6)]})"
            ]
          },
          "metadata": {},
          "execution_count": 57
        }
      ]
    },
    {
      "cell_type": "code",
      "source": [
        "distance_map = {i : 2**31 for i in range(7)}\n",
        "distance_map"
      ],
      "metadata": {
        "colab": {
          "base_uri": "https://localhost:8080/"
        },
        "id": "3pQ9O9hYTvJ3",
        "outputId": "7e6edd69-0a23-4971-d34a-b36e4738f387"
      },
      "execution_count": 58,
      "outputs": [
        {
          "output_type": "execute_result",
          "data": {
            "text/plain": [
              "{0: 2147483648,\n",
              " 1: 2147483648,\n",
              " 2: 2147483648,\n",
              " 3: 2147483648,\n",
              " 4: 2147483648,\n",
              " 5: 2147483648,\n",
              " 6: 2147483648}"
            ]
          },
          "metadata": {},
          "execution_count": 58
        }
      ]
    },
    {
      "cell_type": "code",
      "source": [
        "def f(current_heap,hashmap,considered,distance_map):\n",
        "  node = heapq.heappop(current_heap)\n",
        "  carry,city = node[0],node[1]\n",
        "  considered.add(city)\n",
        "  for distance,City in hashmap[city]:\n",
        "    if City in considered:continue \n",
        "    new_distance = distance + carry \n",
        "    if new_distance<distance_map[City]:distance_map[City]=new_distance\n",
        "    heapq.heappush(current_heap,(new_distance,City))\n",
        "    \n",
        "\n",
        "\n"
      ],
      "metadata": {
        "id": "m-k7RUOdQ9Ka"
      },
      "execution_count": 87,
      "outputs": []
    },
    {
      "cell_type": "code",
      "source": [
        "#@title Run to create variables\n",
        "current_heap = [(0,0)]\n",
        "heapq.heapify(current_heap)\n",
        "distance_map = {i:2**31 for i in range(7)}\n",
        "distance_map[0]=0\n",
        "considered = set()\n",
        "hashmap = create_map([[0,6,7],[0,1,2],[1,2,3],[1,3,3],[6,3,3],[3,5,1],[6,5,1],[2,5,1],[0,4,5],[4,6,2]])\n"
      ],
      "metadata": {
        "id": "RA5o04UkWZUX"
      },
      "execution_count": 88,
      "outputs": []
    },
    {
      "cell_type": "code",
      "source": [
        "current_heap,distance_map,hashmap"
      ],
      "metadata": {
        "colab": {
          "base_uri": "https://localhost:8080/"
        },
        "id": "XJQYmlaKWskp",
        "outputId": "44cf9a9c-3ac7-44e8-b9bc-d04fd9cba5df"
      },
      "execution_count": 89,
      "outputs": [
        {
          "output_type": "execute_result",
          "data": {
            "text/plain": [
              "([(0, 0)],\n",
              " {0: 0,\n",
              "  1: 2147483648,\n",
              "  2: 2147483648,\n",
              "  3: 2147483648,\n",
              "  4: 2147483648,\n",
              "  5: 2147483648,\n",
              "  6: 2147483648},\n",
              " defaultdict(list,\n",
              "             {0: [(7, 6), (2, 1), (5, 4)],\n",
              "              6: [(7, 0), (3, 3), (1, 5), (2, 4)],\n",
              "              1: [(2, 0), (3, 2), (3, 3)],\n",
              "              2: [(3, 1), (1, 5)],\n",
              "              3: [(3, 1), (3, 6), (1, 5)],\n",
              "              5: [(1, 3), (1, 6), (1, 2)],\n",
              "              4: [(5, 0), (2, 6)]}))"
            ]
          },
          "metadata": {},
          "execution_count": 89
        }
      ]
    },
    {
      "cell_type": "code",
      "source": [
        "f(current_heap,hashmap,considered,distance_map)"
      ],
      "metadata": {
        "id": "qql_JuGeWvjI"
      },
      "execution_count": 114,
      "outputs": []
    },
    {
      "cell_type": "code",
      "source": [
        "distance_map,considered"
      ],
      "metadata": {
        "colab": {
          "base_uri": "https://localhost:8080/"
        },
        "id": "YMDojXLTW2XH",
        "outputId": "eaab68a7-396a-4d28-b6fc-9f615cb04c61"
      },
      "execution_count": 115,
      "outputs": [
        {
          "output_type": "execute_result",
          "data": {
            "text/plain": [
              "({0: 0, 1: 2, 2: 5, 3: 5, 4: 5, 5: 6, 6: 7}, {0, 1, 2, 3, 4, 5, 6})"
            ]
          },
          "metadata": {},
          "execution_count": 115
        }
      ]
    },
    {
      "cell_type": "code",
      "source": [
        "current_heap"
      ],
      "metadata": {
        "colab": {
          "base_uri": "https://localhost:8080/"
        },
        "id": "usHhp9eHW30i",
        "outputId": "46684690-6c2d-42d1-e7f3-f1ebb9ed69fb"
      },
      "execution_count": 116,
      "outputs": [
        {
          "output_type": "execute_result",
          "data": {
            "text/plain": [
              "[(7, 6), (7, 6), (8, 6)]"
            ]
          },
          "metadata": {},
          "execution_count": 116
        }
      ]
    },
    {
      "cell_type": "code",
      "source": [
        "def parent(n,routes):\n",
        "  import heapq\n",
        "  hashmap = create_map(routes)\n",
        "  current_heap = [(0,0)]\n",
        "  heapq.heapify(current_heap)\n",
        "  distance_map = {i:2**31 for i in range(7)}\n",
        "  distance_map[0]=0\n",
        "  considered = set()\n",
        "\n",
        "  while len(considered)!=n:f(current_heap,hashmap,considered,distance_map)\n",
        "  return distance_map"
      ],
      "metadata": {
        "id": "UYyOi_u7XamW"
      },
      "execution_count": 117,
      "outputs": []
    },
    {
      "cell_type": "code",
      "source": [
        "parent(6,[[0,6,7],[0,1,2],[1,2,3],[1,3,3],[6,3,3],[3,5,1],[6,5,1],[2,5,1],[0,4,5],[4,6,2]])"
      ],
      "metadata": {
        "colab": {
          "base_uri": "https://localhost:8080/"
        },
        "id": "CkBrD8KJb0om",
        "outputId": "49084f03-4db4-4b7a-d783-483759981ab7"
      },
      "execution_count": 118,
      "outputs": [
        {
          "output_type": "execute_result",
          "data": {
            "text/plain": [
              "{0: 0, 1: 2, 2: 5, 3: 5, 4: 5, 5: 6, 6: 7}"
            ]
          },
          "metadata": {},
          "execution_count": 118
        }
      ]
    },
    {
      "cell_type": "code",
      "source": [
        "class Solution:\n",
        "  def parent(self,n,routes):\n",
        "\n",
        "    import heapq\n",
        "    hashmap = self.create_map(routes)\n",
        "    current_heap = [(0,0)]\n",
        "    heapq.heapify(current_heap)\n",
        "    distance_map = {i:2**31 for i in range(7)}\n",
        "    distance_map[0]=0\n",
        "    considered = set()\n",
        "\n",
        "    while len(considered)!=n:self.f(current_heap,hashmap,considered,distance_map)\n",
        "    return distance_map\n",
        "\n",
        "\n",
        "  def create_map(self,routes):\n",
        "      from collections import defaultdict\n",
        "      hashmap = defaultdict(list)\n",
        "      for city,City,distance in  routes:hashmap[city].append((distance,City)),hashmap[City].append((distance,city))\n",
        "      return hashmap\n",
        "\n",
        "  def f(self,current_heap,hashmap,considered,distance_map):\n",
        "      node = heapq.heappop(current_heap)\n",
        "      carry,city = node[0],node[1]\n",
        "      considered.add(city)\n",
        "      for distance,City in hashmap[city]:\n",
        "        if City in considered:continue \n",
        "        new_distance = distance + carry \n",
        "        if new_distance<distance_map[City]:distance_map[City]=new_distance\n",
        "        heapq.heappush(current_heap,(new_distance,City))"
      ],
      "metadata": {
        "id": "x5BeH3isb5Ko"
      },
      "execution_count": 119,
      "outputs": []
    },
    {
      "cell_type": "code",
      "source": [
        "s=Solution()\n",
        "s.parent(7,[[0,6,7],[0,1,2],[1,2,3],[1,3,3],[6,3,3],[3,5,1],[6,5,1],[2,5,1],[0,4,5],[4,6,2]])"
      ],
      "metadata": {
        "colab": {
          "base_uri": "https://localhost:8080/"
        },
        "id": "MhkeBT7Gc0DL",
        "outputId": "c8c0419d-15e7-4e11-de1f-85361581f93e"
      },
      "execution_count": 121,
      "outputs": [
        {
          "output_type": "execute_result",
          "data": {
            "text/plain": [
              "{0: 0, 1: 2, 2: 5, 3: 5, 4: 5, 5: 6, 6: 7}"
            ]
          },
          "metadata": {},
          "execution_count": 121
        }
      ]
    },
    {
      "cell_type": "code",
      "source": [],
      "metadata": {
        "id": "zS7MieW7c6NI"
      },
      "execution_count": null,
      "outputs": []
    }
  ]
}