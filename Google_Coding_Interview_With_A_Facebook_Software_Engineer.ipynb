{
  "nbformat": 4,
  "nbformat_minor": 0,
  "metadata": {
    "colab": {
      "provenance": []
    },
    "kernelspec": {
      "name": "python3",
      "display_name": "Python 3"
    },
    "language_info": {
      "name": "python"
    }
  },
  "cells": [
    {
      "cell_type": "markdown",
      "source": [
        "Given a number and a list of words, using a number key pad , give the words in the list that can be the typed using that number. "
      ],
      "metadata": {
        "id": "Mll5-BSpvLwC"
      }
    },
    {
      "cell_type": "code",
      "source": [
        "ref = { '2':'abc','3':'def','4':'ghi','5':'jkl','6':'mno','7':'pqrs','8':'tuv','9':'wxyz'}\n",
        "words = ['foo','bar','baz','foobar','emo','cap','car','cat','prem','clement','clemdot']"
      ],
      "metadata": {
        "id": "hNAZKTrgva_O"
      },
      "execution_count": 2,
      "outputs": []
    },
    {
      "cell_type": "code",
      "source": [
        "def practice(words,Number,ref,n=0):\n",
        "  if n==len(Number):\n",
        "    return words\n",
        "  considered = []\n",
        "  for i in words:\n",
        "    if len(i)>n and i[n] in ref[Number[n]]:considered.append(i)\n",
        "  return practice(considered,Number,ref,n+1)"
      ],
      "metadata": {
        "id": "2GWShDkLveo5"
      },
      "execution_count": 3,
      "outputs": []
    },
    {
      "cell_type": "code",
      "source": [
        "Number = '2536368'\n",
        "practice(words,Number,ref)"
      ],
      "metadata": {
        "colab": {
          "base_uri": "https://localhost:8080/"
        },
        "id": "eToatLbDvgkS",
        "outputId": "088cb55d-1d01-488d-a5b0-0d4c46390b53"
      },
      "execution_count": 4,
      "outputs": [
        {
          "output_type": "execute_result",
          "data": {
            "text/plain": [
              "['clement', 'clemdot']"
            ]
          },
          "metadata": {},
          "execution_count": 4
        }
      ]
    },
    {
      "cell_type": "code",
      "source": [],
      "metadata": {
        "id": "KLQVhwd4vmmx"
      },
      "execution_count": null,
      "outputs": []
    }
  ]
}