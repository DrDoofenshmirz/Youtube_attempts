{
  "nbformat": 4,
  "nbformat_minor": 0,
  "metadata": {
    "colab": {
      "provenance": []
    },
    "kernelspec": {
      "name": "python3",
      "display_name": "Python 3"
    },
    "language_info": {
      "name": "python"
    }
  },
  "cells": [
    {
      "cell_type": "markdown",
      "source": [
        "Given a matrix made of only 1 and 0s.\n",
        "Remove all 1s in the matrix which are not connected to a 1 in the border of the matrix.(Diagonal connections are excluded and the connections can only be valid if it is made up of only 1)"
      ],
      "metadata": {
        "id": "FTx3Dm0YQOWx"
      }
    },
    {
      "cell_type": "code",
      "source": [
        "sample = [[1,0,1,0,0,0,1],[1,1,0,1,0,1,0],[1,0,1,0,1,0,1],[0,0,0,1,0,1,1]]\n",
        "for i in sample:\n",
        "  print(i)"
      ],
      "metadata": {
        "id": "8zXJe92AQLvP",
        "colab": {
          "base_uri": "https://localhost:8080/"
        },
        "outputId": "1b8f4c0f-ba20-4a46-9a6c-f82691d19bd8"
      },
      "execution_count": 9,
      "outputs": [
        {
          "output_type": "stream",
          "name": "stdout",
          "text": [
            "[1, 0, 1, 0, 0, 0, 1]\n",
            "[1, 1, 0, 1, 0, 1, 0]\n",
            "[1, 0, 1, 0, 1, 0, 1]\n",
            "[0, 0, 0, 1, 0, 1, 1]\n"
          ]
        }
      ]
    },
    {
      "cell_type": "markdown",
      "source": [
        "strategy : Find all the 1s present at the borders and store their coordinates .\n",
        "From these coordinates , we will find if there exists any 1 present in all directions and store their coordinates.\n",
        "Correspondingly the newly found 1s will lead to more 1s such that they  form a connection"
      ],
      "metadata": {
        "id": "jdZxcseVQ_S7"
      }
    },
    {
      "cell_type": "code",
      "source": [
        "def border(sample,ref = set()):\n",
        "  for i in range(len(sample)):\n",
        "    if sample[i][0]==1:\n",
        "      ref.add((i,0))\n",
        "    if sample[i][len(sample[i])-1]==1:\n",
        "      ref.add((i,len(sample[i])-1))\n",
        "  for j in range(len(sample[0])):\n",
        "    if sample[0][j]==1:\n",
        "      ref.add((0,j))\n",
        "    if sample[len(sample)-1][j]==1:\n",
        "      ref.add((len(sample)-1,j))\n",
        "  return ref"
      ],
      "metadata": {
        "id": "SLOaAkb5SBbA"
      },
      "execution_count": 2,
      "outputs": []
    },
    {
      "cell_type": "code",
      "source": [
        "def f(sample,i,j,considered,found,i_range,j_range):\n",
        "  if i in i_range and j in j_range:\n",
        "    if (i,j) not in considered:\n",
        "      considered.add((i,j))\n",
        "      if sample[i][j]==0:return None \n",
        "      elif sample[i][j]==1:\n",
        "        found.add((i,j))\n",
        "        f(sample,i+1,j,considered,found,i_range,j_range)\n",
        "        f(sample,i-1,j,considered,found,i_range,j_range)\n",
        "        f(sample,i,j-1,considered,found,i_range,j_range)\n",
        "        f(sample,i,j+1,considered,found,i_range,j_range)"
      ],
      "metadata": {
        "id": "MlbnM6p6R8B-"
      },
      "execution_count": 4,
      "outputs": []
    },
    {
      "cell_type": "code",
      "source": [
        "def remove(sample):\n",
        "  considered = set()\n",
        "  found = set()\n",
        "  i_range = range(len(sample))\n",
        "  j_range=range(len(sample[0]))\n",
        "  Ref = border(sample)\n",
        "  for i in Ref:\n",
        "    x,y = i\n",
        "    f(sample,x,y,considered,found,i_range,j_range)\n",
        "  for i in i_range:\n",
        "    for j in j_range:\n",
        "      if (i,j) not in found:\n",
        "        sample[i][j]=0\n",
        "  return sample"
      ],
      "metadata": {
        "id": "M71iNJdMSiMb"
      },
      "execution_count": 5,
      "outputs": []
    },
    {
      "cell_type": "code",
      "source": [
        "sample = [[1,0,1,0,0,0,1],[1,1,0,1,0,1,0],[1,0,1,0,1,0,1],[0,0,0,1,0,1,1]]\n",
        "for i in sample:\n",
        "  print(i)"
      ],
      "metadata": {
        "colab": {
          "base_uri": "https://localhost:8080/"
        },
        "id": "qBHo8nOuTSWd",
        "outputId": "d39e0569-15f3-4c65-d124-48a04c267274"
      },
      "execution_count": 10,
      "outputs": [
        {
          "output_type": "stream",
          "name": "stdout",
          "text": [
            "[1, 0, 1, 0, 0, 0, 1]\n",
            "[1, 1, 0, 1, 0, 1, 0]\n",
            "[1, 0, 1, 0, 1, 0, 1]\n",
            "[0, 0, 0, 1, 0, 1, 1]\n"
          ]
        }
      ]
    },
    {
      "cell_type": "code",
      "source": [
        "for i in remove(sample):\n",
        "  print(i)"
      ],
      "metadata": {
        "colab": {
          "base_uri": "https://localhost:8080/"
        },
        "id": "dk-6XaRRTZRi",
        "outputId": "b38ab22e-3d15-4d61-da0c-4426eb5a7940"
      },
      "execution_count": 11,
      "outputs": [
        {
          "output_type": "stream",
          "name": "stdout",
          "text": [
            "[1, 0, 1, 0, 0, 0, 1]\n",
            "[1, 1, 0, 0, 0, 0, 0]\n",
            "[1, 0, 0, 0, 0, 0, 1]\n",
            "[0, 0, 0, 1, 0, 1, 1]\n"
          ]
        }
      ]
    },
    {
      "cell_type": "code",
      "source": [],
      "metadata": {
        "id": "cVCzKwQ-TcR5"
      },
      "execution_count": null,
      "outputs": []
    }
  ]
}