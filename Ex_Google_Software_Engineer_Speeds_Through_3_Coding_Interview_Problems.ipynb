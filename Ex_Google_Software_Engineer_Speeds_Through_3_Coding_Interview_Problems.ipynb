{
  "nbformat": 4,
  "nbformat_minor": 0,
  "metadata": {
    "colab": {
      "provenance": []
    },
    "kernelspec": {
      "name": "python3",
      "display_name": "Python 3"
    },
    "language_info": {
      "name": "python"
    }
  },
  "cells": [
    {
      "cell_type": "markdown",
      "source": [
        "Given two arrays determine if the second array is a subsequence of the first one \n"
      ],
      "metadata": {
        "id": "B8UTfBtg0nWN"
      }
    },
    {
      "cell_type": "code",
      "source": [
        "def f(parent,sub):\n",
        "  res = False\n",
        "  i = 0 \n",
        "  j = 0 \n",
        "  while i <=len(parent)-1:\n",
        "    if parent[i]==sub[j]:\n",
        "      i += 1\n",
        "      j += 1\n",
        "      if j == len(sub):\n",
        "        res = True \n",
        "        break\n",
        "    else:i +=1 \n",
        "  return res"
      ],
      "metadata": {
        "id": "5FlAcf-b0pEr"
      },
      "execution_count": 1,
      "outputs": []
    },
    {
      "cell_type": "code",
      "source": [
        "f([1,2,3,4,5,6,7],[1,4,5])"
      ],
      "metadata": {
        "colab": {
          "base_uri": "https://localhost:8080/"
        },
        "id": "ow2Eb6vd00Ac",
        "outputId": "f5666f54-ffd7-421f-dc81-f444a94dc8f8"
      },
      "execution_count": 2,
      "outputs": [
        {
          "output_type": "execute_result",
          "data": {
            "text/plain": [
              "True"
            ]
          },
          "metadata": {},
          "execution_count": 2
        }
      ]
    },
    {
      "cell_type": "markdown",
      "source": [
        "Given a matrix of only 1s and 0s where 1 represent a part of river that can be connected on all four sides and not diagonally , give the size of all rivers\n"
      ],
      "metadata": {
        "id": "Kk2JN3el0oaU"
      }
    },
    {
      "cell_type": "code",
      "source": [
        "sample = [[1,0,1,0,0,0,1],[1,1,0,1,0,1,0],[1,0,1,0,1,0,1],[0,0,0,1,0,1,1]]\n",
        "for i in sample:\n",
        "  print(i)"
      ],
      "metadata": {
        "colab": {
          "base_uri": "https://localhost:8080/"
        },
        "id": "IM_QFfXe1CUJ",
        "outputId": "ec9c20f4-7cae-4130-e1a7-48782dabcbd1"
      },
      "execution_count": 3,
      "outputs": [
        {
          "output_type": "stream",
          "name": "stdout",
          "text": [
            "[1, 0, 1, 0, 0, 0, 1]\n",
            "[1, 1, 0, 1, 0, 1, 0]\n",
            "[1, 0, 1, 0, 1, 0, 1]\n",
            "[0, 0, 0, 1, 0, 1, 1]\n"
          ]
        }
      ]
    },
    {
      "cell_type": "markdown",
      "source": [
        "Recursive solution to see if there are any 1 in the adjacent indexes"
      ],
      "metadata": {
        "id": "6FQnjbVa1FQe"
      }
    },
    {
      "cell_type": "code",
      "source": [
        "def f(sample,i,j,considered,found,i_range,j_range):\n",
        "  if i in i_range and j in j_range:\n",
        "    if (i,j) not in considered:\n",
        "      considered.add((i,j))\n",
        "      if sample[i][j]==0:return None \n",
        "      elif sample[i][j]==1:\n",
        "        found.append(1)\n",
        "        f(sample,i+1,j,considered,found,i_range,j_range)\n",
        "        f(sample,i-1,j,considered,found,i_range,j_range)\n",
        "        f(sample,i,j-1,considered,found,i_range,j_range)\n",
        "        f(sample,i,j+1,considered,found,i_range,j_range)"
      ],
      "metadata": {
        "id": "_6KFfS1v1Ez4"
      },
      "execution_count": 4,
      "outputs": []
    },
    {
      "cell_type": "markdown",
      "source": [
        "Function that checks every value on the matrix and executes the previous function "
      ],
      "metadata": {
        "id": "TfXCGG731Nls"
      }
    },
    {
      "cell_type": "code",
      "source": [
        "def River(sample):\n",
        "  Sizes = []\n",
        "  considered = set()\n",
        "  i_range=range(len(sample))\n",
        "  j_range=range(len(sample[0]))\n",
        "  for i in i_range:\n",
        "    for j in j_range:\n",
        "      if sample[i][j] ==1 and (i,j) not in considered:\n",
        "        found=[]\n",
        "        f(sample,i,j,considered,found,i_range,j_range)\n",
        "        Sizes.append(sum(found))\n",
        "  return Sizes"
      ],
      "metadata": {
        "id": "VAw6Mxx81Kbi"
      },
      "execution_count": 5,
      "outputs": []
    },
    {
      "cell_type": "code",
      "source": [
        "River([[1,0,0,1,0],[1,0,1,0,0],[0,0,1,0,1],[1,0,1,0,1],[1,0,1,1,0]])"
      ],
      "metadata": {
        "colab": {
          "base_uri": "https://localhost:8080/"
        },
        "id": "btHkKOo41Vjt",
        "outputId": "9976d21d-c5aa-436e-fc5b-0a83cc2c89e1"
      },
      "execution_count": 6,
      "outputs": [
        {
          "output_type": "execute_result",
          "data": {
            "text/plain": [
              "[2, 1, 5, 2, 2]"
            ]
          },
          "metadata": {},
          "execution_count": 6
        }
      ]
    },
    {
      "cell_type": "markdown",
      "source": [
        "Given the Linked list and a value  k , \n",
        "shift the linked list by k backward or forward depending on sign of k \n",
        "\n",
        "sample \n",
        "Linked list = 0-1-2-3-4-5\n",
        "k = 2 \n",
        "output = 4-5-0-1-2-3\n",
        "\n",
        "\n",
        "Linked list = 0-1-2-3-4-5\n",
        "k = -2\n",
        "output = 2-3-4-5-0-1\n",
        "\n"
      ],
      "metadata": {
        "id": "rwj0J8Kj0Hoe"
      }
    },
    {
      "cell_type": "code",
      "execution_count": 7,
      "metadata": {
        "id": "gvv-VVix0C30"
      },
      "outputs": [],
      "source": [
        "class Node:\n",
        "  def __init__(self, data = None, next=None): \n",
        "    self.data = data\n",
        "    self.next = next\n",
        "  def Print(self):\n",
        "    if self.next != None:return self.data,self.next.data\n",
        "    else:return (self.data)"
      ]
    },
    {
      "cell_type": "code",
      "source": [
        "ref = [ Node(i) for i in range(6)]\n",
        "for i in range(len(ref)-1):\n",
        "  ref[i].next =ref[i+1]\n",
        "#creating nodes\n",
        "for i in ref:\n",
        "  print(i.Print())"
      ],
      "metadata": {
        "colab": {
          "base_uri": "https://localhost:8080/"
        },
        "id": "51StfEwS0Glt",
        "outputId": "9509feed-1e89-427f-e892-cc5a933f2d9c"
      },
      "execution_count": 8,
      "outputs": [
        {
          "output_type": "stream",
          "name": "stdout",
          "text": [
            "(0, 1)\n",
            "(1, 2)\n",
            "(2, 3)\n",
            "(3, 4)\n",
            "(4, 5)\n",
            "5\n"
          ]
        }
      ]
    },
    {
      "cell_type": "code",
      "source": [
        "def make_list(node,List):\n",
        "  if node != None:\n",
        "    List.append(node)\n",
        "    make_list(node.next,List)\n",
        "#creating a function that lists out the node and its next nodes in hierarchial order \n"
      ],
      "metadata": {
        "id": "D2VGj7Kj1gjX"
      },
      "execution_count": 9,
      "outputs": []
    },
    {
      "cell_type": "code",
      "source": [
        "def switch(head_node,k):\n",
        "  res = []\n",
        "  make_list(head_node,res)\n",
        "  if k ==1:\n",
        "    res[-1].next = res[0]\n",
        "    res[-2].next = None \n",
        "    return res[-1]\n",
        "  if k > 1:\n",
        "    res[-1].next = res[0]\n",
        "    last_index = len(res)-1\n",
        "    index_none = last_index - k \n",
        "    res[index_none].next = None \n",
        "    return res[index_none + 1]\n",
        "  if k<0:\n",
        "    k = abs(k)\n",
        "    if k==1:\n",
        "      res[-1].next = res[0]\n",
        "      res[0].next = None \n",
        "      return res[1]\n",
        "    if k >1:\n",
        "      res[-1].next = res[0]\n",
        "      res[k-1].next = None \n",
        "      return res[k]"
      ],
      "metadata": {
        "id": "7-NNXqZY1q1S"
      },
      "execution_count": 10,
      "outputs": []
    },
    {
      "cell_type": "code",
      "source": [
        "List = []\n",
        "make_list(switch(ref[0],-2),List)\n",
        "for i in List:\n",
        "  print(i.Print())"
      ],
      "metadata": {
        "colab": {
          "base_uri": "https://localhost:8080/"
        },
        "id": "sBKkNSOw10Ab",
        "outputId": "081d5e99-dcbd-45ca-805e-6152f76df5df"
      },
      "execution_count": 11,
      "outputs": [
        {
          "output_type": "stream",
          "name": "stdout",
          "text": [
            "(2, 3)\n",
            "(3, 4)\n",
            "(4, 5)\n",
            "(5, 0)\n",
            "(0, 1)\n",
            "1\n"
          ]
        }
      ]
    }
  ]
}