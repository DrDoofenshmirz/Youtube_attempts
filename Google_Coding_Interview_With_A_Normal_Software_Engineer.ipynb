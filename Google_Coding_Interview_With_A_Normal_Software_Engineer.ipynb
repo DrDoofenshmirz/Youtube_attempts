{
  "nbformat": 4,
  "nbformat_minor": 0,
  "metadata": {
    "colab": {
      "provenance": []
    },
    "kernelspec": {
      "name": "python3",
      "display_name": "Python 3"
    },
    "language_info": {
      "name": "python"
    }
  },
  "cells": [
    {
      "cell_type": "markdown",
      "source": [
        "Given a list of dictionaries that have the names of places as keys and their values which can be True or False , representing blocks that either have those places or not.\n",
        "We need to select a apartment in such a block that the max distance needed to travel to access all the places in its vicnity is minimum."
      ],
      "metadata": {
        "id": "gEHZOaGD3h_V"
      }
    },
    {
      "cell_type": "code",
      "source": [
        "#@title Create Dictionaries and List \n",
        "\n",
        "import random\n",
        "options = ['gym','school','store']\n",
        "res = [True,False]\n",
        "res1 = {}\n",
        "for i in options:\n",
        "  res1[i]=random.choice(res)\n",
        "res2 = {}\n",
        "for i in options:\n",
        "  res2[i]=random.choice(res)\n",
        "res3 = {}\n",
        "for i in options:\n",
        "  res3[i]=random.choice(res)\n",
        "res4 = {}\n",
        "for i in options:\n",
        "  res4[i]=random.choice(res)\n",
        "res5 = {}\n",
        "for i in options:\n",
        "  res5[i]=random.choice(res)\n",
        "res6 = {}\n",
        "for i in options:\n",
        "  res6[i]=random.choice(res)\n",
        "res7 = {}\n",
        "for i in options:\n",
        "  res7[i]=random.choice(res)\n",
        "res8 = {}\n",
        "for i in options:\n",
        "  res8[i]=random.choice(res)\n",
        "res9 = {}\n",
        "for i in options:\n",
        "  res9[i]=random.choice(res)"
      ],
      "metadata": {
        "cellView": "form",
        "id": "YSNyajeq4hxd"
      },
      "execution_count": 15,
      "outputs": []
    },
    {
      "cell_type": "code",
      "source": [
        "List = [res1,res2,res3,res4,res5,res6,res7,res8,res9]\n",
        "for i in List:\n",
        "  print(i)"
      ],
      "metadata": {
        "colab": {
          "base_uri": "https://localhost:8080/"
        },
        "id": "Rkpe70S045g9",
        "outputId": "68c99ffd-c12a-4a0b-e51b-6c4e33ae4122"
      },
      "execution_count": 16,
      "outputs": [
        {
          "output_type": "stream",
          "name": "stdout",
          "text": [
            "{'gym': True, 'school': True, 'store': False}\n",
            "{'gym': False, 'school': True, 'store': True}\n",
            "{'gym': False, 'school': False, 'store': True}\n",
            "{'gym': False, 'school': True, 'store': False}\n",
            "{'gym': True, 'school': False, 'store': False}\n",
            "{'gym': True, 'school': False, 'store': False}\n",
            "{'gym': False, 'school': True, 'store': False}\n",
            "{'gym': False, 'school': True, 'store': True}\n",
            "{'gym': False, 'school': True, 'store': False}\n"
          ]
        }
      ]
    },
    {
      "cell_type": "code",
      "source": [
        "def draft(List,criterias,n):\n",
        "  if len(criterias)==0 :return None \n",
        "  if n<0 or n>len(List)-1:return None \n",
        "  if n >=0 and n<=len(List)-1:\n",
        "    satisfied_criterias = []\n",
        "    for i in criterias:\n",
        "      if List[n][i]==True:satisfied_criterias.append(i)\n",
        "    for i in satisfied_criterias:\n",
        "      criterias.remove(i)"
      ],
      "metadata": {
        "id": "uWelsOTR5V0m"
      },
      "execution_count": 3,
      "outputs": []
    },
    {
      "cell_type": "code",
      "source": [
        "def for_all_runs(List,criterias,n):\n",
        "  distance =0 \n",
        "  draft(List,criterias,n)\n",
        "  if len(criterias)==0:\n",
        "    return 0\n",
        "  else:\n",
        "    m = n - 1\n",
        "    o = n+1\n",
        "    distance +=1 \n",
        "    while len(criterias)!=0:\n",
        "      draft(List,criterias,m)\n",
        "      draft(List,criterias,o)\n",
        "      if len(criterias)!=0:\n",
        "        m -= 1\n",
        "        o += 1\n",
        "        distance +=1\n",
        "    return distance  "
      ],
      "metadata": {
        "id": "d5hbNO3C5cll"
      },
      "execution_count": 18,
      "outputs": []
    },
    {
      "cell_type": "code",
      "source": [
        "def apartments(List,Criterias):\n",
        "  min = None\n",
        "  for n in range(len(List)-1):\n",
        "    criterias = Criterias.copy()\n",
        "    value = for_all_runs(List,criterias,n)\n",
        "    if min == None:\n",
        "      min =(n,value)\n",
        "    else:\n",
        "      if value < min[1]:\n",
        "        min = (n,value)\n",
        "  return min"
      ],
      "metadata": {
        "id": "uU6ADUvZ5fXt"
      },
      "execution_count": 5,
      "outputs": []
    },
    {
      "cell_type": "code",
      "source": [
        "criterias= ['gym','school','store']\n",
        "apartments(List,criterias)"
      ],
      "metadata": {
        "colab": {
          "base_uri": "https://localhost:8080/"
        },
        "id": "ZzbO89nw5hgz",
        "outputId": "07da738e-aae9-4b8e-ee92-851c6459ed11"
      },
      "execution_count": 17,
      "outputs": [
        {
          "output_type": "execute_result",
          "data": {
            "text/plain": [
              "(0, 1)"
            ]
          },
          "metadata": {},
          "execution_count": 17
        }
      ]
    },
    {
      "cell_type": "code",
      "source": [],
      "metadata": {
        "id": "tCpbRlvF5jNv"
      },
      "execution_count": null,
      "outputs": []
    }
  ]
}