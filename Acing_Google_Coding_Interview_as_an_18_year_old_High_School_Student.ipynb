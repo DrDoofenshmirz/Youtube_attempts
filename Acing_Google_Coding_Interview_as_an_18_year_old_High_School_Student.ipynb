{
  "nbformat": 4,
  "nbformat_minor": 0,
  "metadata": {
    "colab": {
      "provenance": []
    },
    "kernelspec": {
      "name": "python3",
      "display_name": "Python 3"
    },
    "language_info": {
      "name": "python"
    }
  },
  "cells": [
    {
      "cell_type": "markdown",
      "source": [
        "First question was to find the sum of the depth  of all nodes given a binary tree "
      ],
      "metadata": {
        "id": "iyTzuSmK3ca_"
      }
    },
    {
      "cell_type": "code",
      "source": [
        "#@title Prepare data structure \n",
        "class Node:\n",
        "  # constructor\n",
        "  def __init__(self, data = None, left=None,right = None ): \n",
        "    self.data = data\n",
        "    self.right = None\n",
        "    self.left = None \n",
        "  def view(self):\n",
        "    if self.right != None  and self.left !=None :\n",
        "      print(self.data,self.left.data,self.right.data)\n",
        "    elif self.left !=None:\n",
        "      print(self.data,self.left.data)\n",
        "    elif self.right!=None:\n",
        "      print(self.data,'-',self.right.data)\n",
        "    else:\n",
        "      print(self.data)\n",
        "List = [ Node(i) for i in range(1,10)]\n",
        "t = 0 \n",
        "for i in range(len(List)):\n",
        "  t += 1\n",
        "  if t <=len(List)-1:\n",
        "    List[i].left = List[t]\n",
        "    t+=1\n",
        "    if t <=len(List)-1:\n",
        "      List[i].right = List[t]\n",
        "for i in List:\n",
        "  i.view()"
      ],
      "metadata": {
        "colab": {
          "base_uri": "https://localhost:8080/"
        },
        "id": "G8rdMSkquN4U",
        "outputId": "3fa8523b-b4ce-4f37-db76-ec9a49e21e10"
      },
      "execution_count": 22,
      "outputs": [
        {
          "output_type": "stream",
          "name": "stdout",
          "text": [
            "1 2 3\n",
            "2 4 5\n",
            "3 6 7\n",
            "4 8 9\n",
            "5\n",
            "6\n",
            "7\n",
            "8\n",
            "9\n"
          ]
        }
      ]
    },
    {
      "cell_type": "code",
      "source": [
        "def dfs(node):\n",
        "  global res\n",
        "  res = 0 \n",
        "  def depth(node,n):\n",
        "    if node==None:return None \n",
        "    global res\n",
        "    res += n\n",
        "    m = n +1 \n",
        "    depth(node.right,m)\n",
        "    depth(node.left,m)\n",
        "  depth(node,0)\n",
        "  return res"
      ],
      "metadata": {
        "id": "vt9EkJL638zo"
      },
      "execution_count": 23,
      "outputs": []
    },
    {
      "cell_type": "code",
      "source": [
        "dfs(List[0])"
      ],
      "metadata": {
        "colab": {
          "base_uri": "https://localhost:8080/"
        },
        "id": "K2QWe6vn3--_",
        "outputId": "165acc4f-9865-4d37-f45f-a47b0faf519b"
      },
      "execution_count": 24,
      "outputs": [
        {
          "output_type": "execute_result",
          "data": {
            "text/plain": [
              "16"
            ]
          },
          "metadata": {},
          "execution_count": 24
        }
      ]
    },
    {
      "cell_type": "markdown",
      "source": [
        "Second question was to consider sub trees that are formed by considering every node as a root node and finding the depths of all such nodes that fall under it and ultimately summing those up too.\n",
        " "
      ],
      "metadata": {
        "id": "8P5trSX74DQs"
      }
    },
    {
      "cell_type": "code",
      "source": [
        "def Sub(node):\n",
        "  global Res \n",
        "  Res = 0 \n",
        "  def subtree(node):\n",
        "    if node == None:return None\n",
        "    global Res\n",
        "    Res +=dfs(node)\n",
        "    subtree(node.left)\n",
        "    subtree(node.right)\n",
        "  subtree(node)\n",
        "  return Res\n"
      ],
      "metadata": {
        "id": "pUQnwdjx4gcX"
      },
      "execution_count": 25,
      "outputs": []
    },
    {
      "cell_type": "code",
      "source": [
        "Sub(List[0])"
      ],
      "metadata": {
        "colab": {
          "base_uri": "https://localhost:8080/"
        },
        "id": "z3fSaUbz4jdi",
        "outputId": "96e7cc28-2d73-4134-eb4c-b6cf78091ca2"
      },
      "execution_count": 26,
      "outputs": [
        {
          "output_type": "execute_result",
          "data": {
            "text/plain": [
              "26"
            ]
          },
          "metadata": {},
          "execution_count": 26
        }
      ]
    },
    {
      "cell_type": "markdown",
      "source": [
        "With some changes made to the code in the first question , it can also answer the second question "
      ],
      "metadata": {
        "id": "76Py7T104ogs"
      }
    },
    {
      "cell_type": "markdown",
      "source": [
        "The third question is that given a node in the binary tree ; find the sum of  the  distances of all nodes from it .\n",
        "Modifiction of node class to include a node.parent is recommended. However for practicing i went ahead without any changes to the node class"
      ],
      "metadata": {
        "id": "VBB1YvRo47kG"
      }
    },
    {
      "cell_type": "code",
      "execution_count": 5,
      "metadata": {
        "id": "IAWRqGEpuDsU"
      },
      "outputs": [],
      "source": [
        "def get_path(head_node,target_node):\n",
        "  global Path\n",
        "  def find_path(head_node,target_node,path=[]):\n",
        "    if head_node==None:return None \n",
        "    if head_node==target_node:\n",
        "      path +=[head_node]\n",
        "      global Path \n",
        "      Path = path\n",
        "    else:\n",
        "      find_path(head_node.right,target_node,path+[head_node])\n",
        "      find_path(head_node.left,target_node,path+[head_node])\n",
        "  find_path(head_node,target_node)\n",
        "  return Path"
      ]
    },
    {
      "cell_type": "markdown",
      "source": [
        "The above code gives the path to find the target  node from the head node\n"
      ],
      "metadata": {
        "id": "C3nrG-gS5UHe"
      }
    },
    {
      "cell_type": "code",
      "source": [
        "not_list =get_path(List[0],List[6])\n"
      ],
      "metadata": {
        "id": "ctYB_1Iju7ED"
      },
      "execution_count": 7,
      "outputs": []
    },
    {
      "cell_type": "code",
      "source": [
        "def depth(node,n,not_node,res=[]):\n",
        "  if node==not_node:return None \n",
        "  if node==None:return None \n",
        "  res.append(n)\n",
        "  m = n +1 \n",
        "  depth(node.right,m,not_node,res)\n",
        "  depth(node.left,m,not_node,res)"
      ],
      "metadata": {
        "id": "dvxPn6Y0ugH1"
      },
      "execution_count": 4,
      "outputs": []
    },
    {
      "cell_type": "markdown",
      "source": [
        "we execute the first code treating head node as root node but target node and the node before it isnt included\n",
        "Then we execute the first code using the node before target  node as root node but exclude target node from it \n",
        "finally we execute the code on the target node \n"
      ],
      "metadata": {
        "id": "h12ekncj509c"
      }
    },
    {
      "cell_type": "code",
      "source": [
        "\n",
        "def get_distance(head_node,node):\n",
        "  if head_node==node:\n",
        "    res = []\n",
        "    depth(head_node,0,None,res)\n",
        "    return sum(res)\n",
        "  not_list =get_path(head_node,node)\n",
        "  n = len(not_list)-1\n",
        "  Res = 0\n",
        "  for i in range(n):\n",
        "    res=[]\n",
        "    depth(not_list[i],0,not_list[i + 1],res)\n",
        "    for i in res:\n",
        "      Res += i + n \n",
        "    n -=1\n",
        "  res2=[]\n",
        "  depth(not_list[-1],0,None,res2)\n",
        "  return Res + sum(res2)\n"
      ],
      "metadata": {
        "id": "Z8bSsc8Fza6F"
      },
      "execution_count": 27,
      "outputs": []
    },
    {
      "cell_type": "markdown",
      "source": [
        "To the list of distances given by executing the first code to  head node , we modify it by adding the distance between head node to target node in each element \n",
        "similarly we do the same to the list given by treatign the node before  target node as root node by adding  distance between target node and its parent node \n",
        "finally we add the sum of both lists and to it add the output of the first code ran on target node"
      ],
      "metadata": {
        "id": "4P_TxcLt6JHp"
      }
    },
    {
      "cell_type": "code",
      "source": [
        "get_distance(List[0],List[4])"
      ],
      "metadata": {
        "colab": {
          "base_uri": "https://localhost:8080/"
        },
        "id": "6ZDTxSU00H-9",
        "outputId": "dfae24ec-1d34-4461-cc75-8a7eda97a2d0"
      },
      "execution_count": 31,
      "outputs": [
        {
          "output_type": "execute_result",
          "data": {
            "text/plain": [
              "22"
            ]
          },
          "metadata": {},
          "execution_count": 31
        }
      ]
    },
    {
      "cell_type": "code",
      "source": [],
      "metadata": {
        "id": "rbWxi0d-2Arc"
      },
      "execution_count": null,
      "outputs": []
    }
  ]
}